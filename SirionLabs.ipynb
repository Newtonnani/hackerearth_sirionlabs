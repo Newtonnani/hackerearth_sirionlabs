{
 "cells": [
  {
   "cell_type": "markdown",
   "source": [
    "### PACKAGES"
   ],
   "metadata": {
    "collapsed": false
   }
  },
  {
   "cell_type": "code",
   "execution_count": 483,
   "metadata": {
    "collapsed": true
   },
   "outputs": [],
   "source": [
    "import pandas as pd\n",
    "import numpy as np"
   ]
  },
  {
   "cell_type": "markdown",
   "source": [
    "### LOADING DATA"
   ],
   "metadata": {
    "collapsed": false
   }
  },
  {
   "cell_type": "code",
   "execution_count": 484,
   "outputs": [
    {
     "data": {
      "text/plain": "  Supplier Name         Region        Country             Function  \\\n0       Infosys           APAC          India  IT & Infrastructure   \n1       Genpact  North America  United States           Consulting   \n2           IBM  North America  United States  IT & Infrastructure   \n3     Capgemini         Europe         France                   HR   \n\n                                  Service Avg. Cost($) Rating  \\\n0                Applications Development         100k     90   \n1  Applications Development & Maintenance         150k     80   \n2                      Mainframe services         150k     85   \n3                            Service Desk         100k     85   \n\n  Average Delivery Time Number of Escalations  Year Resources  \n0                    90                     5  2018     10000  \n1                   180                    40  2017      6000  \n2                   180                   100  2014      8000  \n3                   270                   150  2016      5000  ",
      "text/html": "<div>\n<style scoped>\n    .dataframe tbody tr th:only-of-type {\n        vertical-align: middle;\n    }\n\n    .dataframe tbody tr th {\n        vertical-align: top;\n    }\n\n    .dataframe thead th {\n        text-align: right;\n    }\n</style>\n<table border=\"1\" class=\"dataframe\">\n  <thead>\n    <tr style=\"text-align: right;\">\n      <th></th>\n      <th>Supplier Name</th>\n      <th>Region</th>\n      <th>Country</th>\n      <th>Function</th>\n      <th>Service</th>\n      <th>Avg. Cost($)</th>\n      <th>Rating</th>\n      <th>Average Delivery Time</th>\n      <th>Number of Escalations</th>\n      <th>Year</th>\n      <th>Resources</th>\n    </tr>\n  </thead>\n  <tbody>\n    <tr>\n      <th>0</th>\n      <td>Infosys</td>\n      <td>APAC</td>\n      <td>India</td>\n      <td>IT &amp; Infrastructure</td>\n      <td>Applications Development</td>\n      <td>100k</td>\n      <td>90</td>\n      <td>90</td>\n      <td>5</td>\n      <td>2018</td>\n      <td>10000</td>\n    </tr>\n    <tr>\n      <th>1</th>\n      <td>Genpact</td>\n      <td>North America</td>\n      <td>United States</td>\n      <td>Consulting</td>\n      <td>Applications Development &amp; Maintenance</td>\n      <td>150k</td>\n      <td>80</td>\n      <td>180</td>\n      <td>40</td>\n      <td>2017</td>\n      <td>6000</td>\n    </tr>\n    <tr>\n      <th>2</th>\n      <td>IBM</td>\n      <td>North America</td>\n      <td>United States</td>\n      <td>IT &amp; Infrastructure</td>\n      <td>Mainframe services</td>\n      <td>150k</td>\n      <td>85</td>\n      <td>180</td>\n      <td>100</td>\n      <td>2014</td>\n      <td>8000</td>\n    </tr>\n    <tr>\n      <th>3</th>\n      <td>Capgemini</td>\n      <td>Europe</td>\n      <td>France</td>\n      <td>HR</td>\n      <td>Service Desk</td>\n      <td>100k</td>\n      <td>85</td>\n      <td>270</td>\n      <td>150</td>\n      <td>2016</td>\n      <td>5000</td>\n    </tr>\n  </tbody>\n</table>\n</div>"
     },
     "execution_count": 484,
     "metadata": {},
     "output_type": "execute_result"
    }
   ],
   "source": [
    "data = [{\n",
    "\n",
    "    'Supplier Name': 'Infosys',\n",
    "\n",
    "    'Region': 'APAC',\n",
    "\n",
    "    'Country': 'India',\n",
    "\n",
    "    'Function': 'IT & Infrastructure',\n",
    "\n",
    "    'Service': 'Applications Development',\n",
    "\n",
    "    'Avg. Cost($)': '100k',\n",
    "\n",
    "    'Rating': '90',\n",
    "\n",
    "    'Average Delivery Time': '90',\n",
    "\n",
    "    'Number of Escalations': '5',\n",
    "\n",
    "    'Year': '2018',\n",
    "\n",
    "    'Resources': '10000'\n",
    "\n",
    "},\n",
    "    {\n",
    "\n",
    "        'Supplier Name': 'Genpact',\n",
    "\n",
    "        'Region': 'North America',\n",
    "\n",
    "        'Country': 'United States',\n",
    "\n",
    "        'Function': 'Consulting',\n",
    "\n",
    "        'Service': 'Applications Development & Maintenance',\n",
    "\n",
    "        'Avg. Cost($)': '150k',\n",
    "\n",
    "        'Rating': 80,\n",
    "\n",
    "        'Average Delivery Time': '180',\n",
    "\n",
    "        'Number of Escalations': '40',\n",
    "\n",
    "        'Year': '2017',\n",
    "\n",
    "        'Resources': '6000'\n",
    "    },\n",
    "    {\n",
    "\n",
    "        'Supplier Name': 'IBM',\n",
    "\n",
    "        'Region': 'North America',\n",
    "\n",
    "        'Country': 'United States',\n",
    "\n",
    "        'Function': 'IT & Infrastructure',\n",
    "\n",
    "        'Service': 'Mainframe services',\n",
    "\n",
    "        'Avg. Cost($)': '150k',\n",
    "\n",
    "        'Rating': 85,\n",
    "\n",
    "        'Average Delivery Time': '180',\n",
    "\n",
    "        'Number of Escalations': '100',\n",
    "\n",
    "        'Year': '2014',\n",
    "\n",
    "        'Resources': '8000'\n",
    "\n",
    "    },\n",
    "    {\n",
    "\n",
    "        'Supplier Name': 'Capgemini',\n",
    "\n",
    "        'Region': 'Europe',\n",
    "\n",
    "        'Country': 'France',\n",
    "\n",
    "        'Function': 'HR',\n",
    "\n",
    "        'Service': 'Service Desk',\n",
    "\n",
    "        'Avg. Cost($)': '100k',\n",
    "\n",
    "        'Rating': 85,\n",
    "\n",
    "        'Average Delivery Time': '270',\n",
    "\n",
    "        'Number of Escalations': '150',\n",
    "\n",
    "        'Year': '2016',\n",
    "\n",
    "        'Resources': '5000'\n",
    "    }]\n",
    "\n",
    "\n",
    "df = pd.DataFrame(data)\n",
    "df"
   ],
   "metadata": {
    "collapsed": false,
    "pycharm": {
     "name": "#%%\n"
    }
   }
  },
  {
   "cell_type": "code",
   "execution_count": 485,
   "outputs": [],
   "source": [
    "required_df = df[[\"Supplier Name\",\"Country\",\"Year\",\"Rating\",\"Avg. Cost($)\"]]\n",
    "# df.rename({\"Supplier Name\":\"supplier_name\",\"Country\":\"country\",\"Year\":\"year\",\"Rating\":\"rating\",\"Avg. Cost($)\":\"average_cost\"},inplace=True)"
   ],
   "metadata": {
    "collapsed": false,
    "pycharm": {
     "name": "#%%\n"
    }
   }
  },
  {
   "cell_type": "code",
   "execution_count": 486,
   "outputs": [
    {
     "name": "stderr",
     "output_type": "stream",
     "text": [
      "C:\\Users\\newton.sathyavety\\AppData\\Local\\Temp\\ipykernel_24320\\1118148347.py:1: SettingWithCopyWarning: \n",
      "A value is trying to be set on a copy of a slice from a DataFrame\n",
      "\n",
      "See the caveats in the documentation: https://pandas.pydata.org/pandas-docs/stable/user_guide/indexing.html#returning-a-view-versus-a-copy\n",
      "  required_df.rename(columns={\"Supplier Name\":\"supplier_name\",\"Country\":\"country\",\"Year\":\"year\",\"Rating\":\"rating\",\"Avg. Cost($)\":\"average_cost\"},inplace=True)\n"
     ]
    }
   ],
   "source": [
    "required_df.rename(columns={\"Supplier Name\":\"supplier_name\",\"Country\":\"country\",\"Year\":\"year\",\"Rating\":\"rating\",\"Avg. Cost($)\":\"average_cost\"},inplace=True)"
   ],
   "metadata": {
    "collapsed": false,
    "pycharm": {
     "name": "#%%\n"
    }
   }
  },
  {
   "cell_type": "code",
   "execution_count": 487,
   "outputs": [
    {
     "data": {
      "text/plain": "  supplier_name        country  year rating average_cost\n0       Infosys          India  2018     90         100k\n1       Genpact  United States  2017     80         150k\n2           IBM  United States  2014     85         150k\n3     Capgemini         France  2016     85         100k",
      "text/html": "<div>\n<style scoped>\n    .dataframe tbody tr th:only-of-type {\n        vertical-align: middle;\n    }\n\n    .dataframe tbody tr th {\n        vertical-align: top;\n    }\n\n    .dataframe thead th {\n        text-align: right;\n    }\n</style>\n<table border=\"1\" class=\"dataframe\">\n  <thead>\n    <tr style=\"text-align: right;\">\n      <th></th>\n      <th>supplier_name</th>\n      <th>country</th>\n      <th>year</th>\n      <th>rating</th>\n      <th>average_cost</th>\n    </tr>\n  </thead>\n  <tbody>\n    <tr>\n      <th>0</th>\n      <td>Infosys</td>\n      <td>India</td>\n      <td>2018</td>\n      <td>90</td>\n      <td>100k</td>\n    </tr>\n    <tr>\n      <th>1</th>\n      <td>Genpact</td>\n      <td>United States</td>\n      <td>2017</td>\n      <td>80</td>\n      <td>150k</td>\n    </tr>\n    <tr>\n      <th>2</th>\n      <td>IBM</td>\n      <td>United States</td>\n      <td>2014</td>\n      <td>85</td>\n      <td>150k</td>\n    </tr>\n    <tr>\n      <th>3</th>\n      <td>Capgemini</td>\n      <td>France</td>\n      <td>2016</td>\n      <td>85</td>\n      <td>100k</td>\n    </tr>\n  </tbody>\n</table>\n</div>"
     },
     "execution_count": 487,
     "metadata": {},
     "output_type": "execute_result"
    }
   ],
   "source": [
    "required_df"
   ],
   "metadata": {
    "collapsed": false,
    "pycharm": {
     "name": "#%%\n"
    }
   }
  },
  {
   "cell_type": "markdown",
   "source": [
    "## PREPROCESSING"
   ],
   "metadata": {
    "collapsed": false
   }
  },
  {
   "cell_type": "markdown",
   "source": [
    "##### CONVERTING CATEGORICAL TO BINARY FORMAT"
   ],
   "metadata": {
    "collapsed": false
   }
  },
  {
   "cell_type": "code",
   "execution_count": 488,
   "outputs": [],
   "source": [
    "from sklearn.preprocessing import OneHotEncoder"
   ],
   "metadata": {
    "collapsed": false,
    "pycharm": {
     "name": "#%%\n"
    }
   }
  },
  {
   "cell_type": "code",
   "execution_count": 489,
   "outputs": [],
   "source": [
    "onehotencoder = OneHotEncoder()"
   ],
   "metadata": {
    "collapsed": false,
    "pycharm": {
     "name": "#%%\n"
    }
   }
  },
  {
   "cell_type": "code",
   "execution_count": 490,
   "outputs": [],
   "source": [
    "feature_arr = onehotencoder.fit_transform(required_df[[\"supplier_name\",\"country\"]]).toarray()"
   ],
   "metadata": {
    "collapsed": false,
    "pycharm": {
     "name": "#%%\n"
    }
   }
  },
  {
   "cell_type": "code",
   "execution_count": 491,
   "outputs": [],
   "source": [
    "feature_label = onehotencoder.categories_"
   ],
   "metadata": {
    "collapsed": false,
    "pycharm": {
     "name": "#%%\n"
    }
   }
  },
  {
   "cell_type": "code",
   "execution_count": 492,
   "outputs": [
    {
     "name": "stderr",
     "output_type": "stream",
     "text": [
      "C:\\Users\\newton.sathyavety\\AppData\\Local\\Temp\\ipykernel_24320\\3667537004.py:1: VisibleDeprecationWarning: Creating an ndarray from ragged nested sequences (which is a list-or-tuple of lists-or-tuples-or ndarrays with different lengths or shapes) is deprecated. If you meant to do this, you must specify 'dtype=object' when creating the ndarray.\n",
      "  feature_label = np.array(feature_label).ravel().tolist()\n"
     ]
    }
   ],
   "source": [
    "feature_label = np.array(feature_label).ravel().tolist()"
   ],
   "metadata": {
    "collapsed": false,
    "pycharm": {
     "name": "#%%\n"
    }
   }
  },
  {
   "cell_type": "code",
   "execution_count": 493,
   "outputs": [],
   "source": [
    "flatList = [ item for elem in feature_label for item in elem]"
   ],
   "metadata": {
    "collapsed": false,
    "pycharm": {
     "name": "#%%\n"
    }
   }
  },
  {
   "cell_type": "code",
   "execution_count": 494,
   "outputs": [],
   "source": [
    "feature = pd.DataFrame(feature_arr,columns=flatList)"
   ],
   "metadata": {
    "collapsed": false,
    "pycharm": {
     "name": "#%%\n"
    }
   }
  },
  {
   "cell_type": "code",
   "execution_count": 495,
   "outputs": [
    {
     "data": {
      "text/plain": "   Capgemini  Genpact  IBM  Infosys  France  India  United States  year  \\\n0        0.0      0.0  0.0      1.0     0.0    1.0            0.0  2018   \n1        0.0      1.0  0.0      0.0     0.0    0.0            1.0  2017   \n2        0.0      0.0  1.0      0.0     0.0    0.0            1.0  2014   \n3        1.0      0.0  0.0      0.0     1.0    0.0            0.0  2016   \n\n  rating average_cost  \n0     90         100k  \n1     80         150k  \n2     85         150k  \n3     85         100k  ",
      "text/html": "<div>\n<style scoped>\n    .dataframe tbody tr th:only-of-type {\n        vertical-align: middle;\n    }\n\n    .dataframe tbody tr th {\n        vertical-align: top;\n    }\n\n    .dataframe thead th {\n        text-align: right;\n    }\n</style>\n<table border=\"1\" class=\"dataframe\">\n  <thead>\n    <tr style=\"text-align: right;\">\n      <th></th>\n      <th>Capgemini</th>\n      <th>Genpact</th>\n      <th>IBM</th>\n      <th>Infosys</th>\n      <th>France</th>\n      <th>India</th>\n      <th>United States</th>\n      <th>year</th>\n      <th>rating</th>\n      <th>average_cost</th>\n    </tr>\n  </thead>\n  <tbody>\n    <tr>\n      <th>0</th>\n      <td>0.0</td>\n      <td>0.0</td>\n      <td>0.0</td>\n      <td>1.0</td>\n      <td>0.0</td>\n      <td>1.0</td>\n      <td>0.0</td>\n      <td>2018</td>\n      <td>90</td>\n      <td>100k</td>\n    </tr>\n    <tr>\n      <th>1</th>\n      <td>0.0</td>\n      <td>1.0</td>\n      <td>0.0</td>\n      <td>0.0</td>\n      <td>0.0</td>\n      <td>0.0</td>\n      <td>1.0</td>\n      <td>2017</td>\n      <td>80</td>\n      <td>150k</td>\n    </tr>\n    <tr>\n      <th>2</th>\n      <td>0.0</td>\n      <td>0.0</td>\n      <td>1.0</td>\n      <td>0.0</td>\n      <td>0.0</td>\n      <td>0.0</td>\n      <td>1.0</td>\n      <td>2014</td>\n      <td>85</td>\n      <td>150k</td>\n    </tr>\n    <tr>\n      <th>3</th>\n      <td>1.0</td>\n      <td>0.0</td>\n      <td>0.0</td>\n      <td>0.0</td>\n      <td>1.0</td>\n      <td>0.0</td>\n      <td>0.0</td>\n      <td>2016</td>\n      <td>85</td>\n      <td>100k</td>\n    </tr>\n  </tbody>\n</table>\n</div>"
     },
     "execution_count": 495,
     "metadata": {},
     "output_type": "execute_result"
    }
   ],
   "source": [
    "final_df = pd.concat([feature, required_df[[\"year\",\"rating\",\"average_cost\"]]],axis=1)\n",
    "final_df"
   ],
   "metadata": {
    "collapsed": false,
    "pycharm": {
     "name": "#%%\n"
    }
   }
  },
  {
   "cell_type": "code",
   "execution_count": 496,
   "outputs": [
    {
     "data": {
      "text/plain": "       Capgemini  Genpact   IBM  Infosys  France  India  United States\ncount       4.00     4.00  4.00     4.00    4.00   4.00        4.00000\nmean        0.25     0.25  0.25     0.25    0.25   0.25        0.50000\nstd         0.50     0.50  0.50     0.50    0.50   0.50        0.57735\nmin         0.00     0.00  0.00     0.00    0.00   0.00        0.00000\n25%         0.00     0.00  0.00     0.00    0.00   0.00        0.00000\n50%         0.00     0.00  0.00     0.00    0.00   0.00        0.50000\n75%         0.25     0.25  0.25     0.25    0.25   0.25        1.00000\nmax         1.00     1.00  1.00     1.00    1.00   1.00        1.00000",
      "text/html": "<div>\n<style scoped>\n    .dataframe tbody tr th:only-of-type {\n        vertical-align: middle;\n    }\n\n    .dataframe tbody tr th {\n        vertical-align: top;\n    }\n\n    .dataframe thead th {\n        text-align: right;\n    }\n</style>\n<table border=\"1\" class=\"dataframe\">\n  <thead>\n    <tr style=\"text-align: right;\">\n      <th></th>\n      <th>Capgemini</th>\n      <th>Genpact</th>\n      <th>IBM</th>\n      <th>Infosys</th>\n      <th>France</th>\n      <th>India</th>\n      <th>United States</th>\n    </tr>\n  </thead>\n  <tbody>\n    <tr>\n      <th>count</th>\n      <td>4.00</td>\n      <td>4.00</td>\n      <td>4.00</td>\n      <td>4.00</td>\n      <td>4.00</td>\n      <td>4.00</td>\n      <td>4.00000</td>\n    </tr>\n    <tr>\n      <th>mean</th>\n      <td>0.25</td>\n      <td>0.25</td>\n      <td>0.25</td>\n      <td>0.25</td>\n      <td>0.25</td>\n      <td>0.25</td>\n      <td>0.50000</td>\n    </tr>\n    <tr>\n      <th>std</th>\n      <td>0.50</td>\n      <td>0.50</td>\n      <td>0.50</td>\n      <td>0.50</td>\n      <td>0.50</td>\n      <td>0.50</td>\n      <td>0.57735</td>\n    </tr>\n    <tr>\n      <th>min</th>\n      <td>0.00</td>\n      <td>0.00</td>\n      <td>0.00</td>\n      <td>0.00</td>\n      <td>0.00</td>\n      <td>0.00</td>\n      <td>0.00000</td>\n    </tr>\n    <tr>\n      <th>25%</th>\n      <td>0.00</td>\n      <td>0.00</td>\n      <td>0.00</td>\n      <td>0.00</td>\n      <td>0.00</td>\n      <td>0.00</td>\n      <td>0.00000</td>\n    </tr>\n    <tr>\n      <th>50%</th>\n      <td>0.00</td>\n      <td>0.00</td>\n      <td>0.00</td>\n      <td>0.00</td>\n      <td>0.00</td>\n      <td>0.00</td>\n      <td>0.50000</td>\n    </tr>\n    <tr>\n      <th>75%</th>\n      <td>0.25</td>\n      <td>0.25</td>\n      <td>0.25</td>\n      <td>0.25</td>\n      <td>0.25</td>\n      <td>0.25</td>\n      <td>1.00000</td>\n    </tr>\n    <tr>\n      <th>max</th>\n      <td>1.00</td>\n      <td>1.00</td>\n      <td>1.00</td>\n      <td>1.00</td>\n      <td>1.00</td>\n      <td>1.00</td>\n      <td>1.00000</td>\n    </tr>\n  </tbody>\n</table>\n</div>"
     },
     "execution_count": 496,
     "metadata": {},
     "output_type": "execute_result"
    }
   ],
   "source": [
    "final_df.describe()"
   ],
   "metadata": {
    "collapsed": false,
    "pycharm": {
     "name": "#%%\n"
    }
   }
  },
  {
   "cell_type": "code",
   "execution_count": 497,
   "outputs": [
    {
     "name": "stdout",
     "output_type": "stream",
     "text": [
      "<class 'pandas.core.frame.DataFrame'>\n",
      "RangeIndex: 4 entries, 0 to 3\n",
      "Data columns (total 10 columns):\n",
      " #   Column         Non-Null Count  Dtype  \n",
      "---  ------         --------------  -----  \n",
      " 0   Capgemini      4 non-null      float64\n",
      " 1   Genpact        4 non-null      float64\n",
      " 2   IBM            4 non-null      float64\n",
      " 3   Infosys        4 non-null      float64\n",
      " 4   France         4 non-null      float64\n",
      " 5   India          4 non-null      float64\n",
      " 6   United States  4 non-null      float64\n",
      " 7   year           4 non-null      object \n",
      " 8   rating         4 non-null      object \n",
      " 9   average_cost   4 non-null      object \n",
      "dtypes: float64(7), object(3)\n",
      "memory usage: 448.0+ bytes\n"
     ]
    }
   ],
   "source": [
    "final_df.info()"
   ],
   "metadata": {
    "collapsed": false,
    "pycharm": {
     "name": "#%%\n"
    }
   }
  },
  {
   "cell_type": "code",
   "execution_count": 498,
   "outputs": [
    {
     "data": {
      "text/plain": "   Capgemini  Genpact  IBM  Infosys  France  India  United States  year  \\\n0        0.0      0.0  0.0      1.0     0.0    1.0            0.0  2018   \n1        0.0      1.0  0.0      0.0     0.0    0.0            1.0  2017   \n2        0.0      0.0  1.0      0.0     0.0    0.0            1.0  2014   \n3        1.0      0.0  0.0      0.0     1.0    0.0            0.0  2016   \n\n  rating  average_cost  \n0     90        100000  \n1     80        150000  \n2     85        150000  \n3     85        100000  ",
      "text/html": "<div>\n<style scoped>\n    .dataframe tbody tr th:only-of-type {\n        vertical-align: middle;\n    }\n\n    .dataframe tbody tr th {\n        vertical-align: top;\n    }\n\n    .dataframe thead th {\n        text-align: right;\n    }\n</style>\n<table border=\"1\" class=\"dataframe\">\n  <thead>\n    <tr style=\"text-align: right;\">\n      <th></th>\n      <th>Capgemini</th>\n      <th>Genpact</th>\n      <th>IBM</th>\n      <th>Infosys</th>\n      <th>France</th>\n      <th>India</th>\n      <th>United States</th>\n      <th>year</th>\n      <th>rating</th>\n      <th>average_cost</th>\n    </tr>\n  </thead>\n  <tbody>\n    <tr>\n      <th>0</th>\n      <td>0.0</td>\n      <td>0.0</td>\n      <td>0.0</td>\n      <td>1.0</td>\n      <td>0.0</td>\n      <td>1.0</td>\n      <td>0.0</td>\n      <td>2018</td>\n      <td>90</td>\n      <td>100000</td>\n    </tr>\n    <tr>\n      <th>1</th>\n      <td>0.0</td>\n      <td>1.0</td>\n      <td>0.0</td>\n      <td>0.0</td>\n      <td>0.0</td>\n      <td>0.0</td>\n      <td>1.0</td>\n      <td>2017</td>\n      <td>80</td>\n      <td>150000</td>\n    </tr>\n    <tr>\n      <th>2</th>\n      <td>0.0</td>\n      <td>0.0</td>\n      <td>1.0</td>\n      <td>0.0</td>\n      <td>0.0</td>\n      <td>0.0</td>\n      <td>1.0</td>\n      <td>2014</td>\n      <td>85</td>\n      <td>150000</td>\n    </tr>\n    <tr>\n      <th>3</th>\n      <td>1.0</td>\n      <td>0.0</td>\n      <td>0.0</td>\n      <td>0.0</td>\n      <td>1.0</td>\n      <td>0.0</td>\n      <td>0.0</td>\n      <td>2016</td>\n      <td>85</td>\n      <td>100000</td>\n    </tr>\n  </tbody>\n</table>\n</div>"
     },
     "execution_count": 498,
     "metadata": {},
     "output_type": "execute_result"
    }
   ],
   "source": [
    "final_df[\"average_cost\"].replace(to_replace=\"k\",value=\"\",regex=True,inplace=True)\n",
    "\n",
    "# final_df[\"average_cost\"].astype(str).astype(int)\n",
    "final_df[\"average_cost\"] = final_df[\"average_cost\"].apply(lambda x:int(x)*1000)\n",
    "final_df"
   ],
   "metadata": {
    "collapsed": false,
    "pycharm": {
     "name": "#%%\n"
    }
   }
  },
  {
   "cell_type": "markdown",
   "source": [
    "##### SPLITTING THE VARIABLES X(DEPENDENT VARIABLES) AND Y(INDEPENDENT VARIABLES)"
   ],
   "metadata": {
    "collapsed": false
   }
  },
  {
   "cell_type": "code",
   "execution_count": 499,
   "outputs": [],
   "source": [
    "y = final_df.iloc[:,-1].values"
   ],
   "metadata": {
    "collapsed": false,
    "pycharm": {
     "name": "#%%\n"
    }
   }
  },
  {
   "cell_type": "code",
   "execution_count": 500,
   "outputs": [],
   "source": [
    "x = final_df.iloc[:,:-1].values"
   ],
   "metadata": {
    "collapsed": false,
    "pycharm": {
     "name": "#%%\n"
    }
   }
  },
  {
   "cell_type": "markdown",
   "source": [
    "##### STANDARD SCALING"
   ],
   "metadata": {
    "collapsed": false
   }
  },
  {
   "cell_type": "code",
   "execution_count": 501,
   "outputs": [],
   "source": [
    "from sklearn.preprocessing import StandardScaler\n",
    "sc = StandardScaler()\n",
    "x[:,:] = sc.fit_transform(x[:,:])"
   ],
   "metadata": {
    "collapsed": false,
    "pycharm": {
     "name": "#%%\n"
    }
   }
  },
  {
   "cell_type": "markdown",
   "source": [
    "##### TRAIN TEST SPLIT"
   ],
   "metadata": {
    "collapsed": false
   }
  },
  {
   "cell_type": "code",
   "execution_count": 502,
   "outputs": [],
   "source": [
    "from sklearn.model_selection import train_test_split\n",
    "\n",
    "x_train, x_test, y_train, y_test = train_test_split(x, y, test_size=0.2,random_state=0)"
   ],
   "metadata": {
    "collapsed": false,
    "pycharm": {
     "name": "#%%\n"
    }
   }
  },
  {
   "cell_type": "markdown",
   "source": [
    "##### MODEL BUILDING"
   ],
   "metadata": {
    "collapsed": false
   }
  },
  {
   "cell_type": "markdown",
   "source": [
    "##### LINEAR REGRESSION"
   ],
   "metadata": {
    "collapsed": false
   }
  },
  {
   "cell_type": "code",
   "execution_count": 503,
   "outputs": [
    {
     "data": {
      "text/plain": "LinearRegression()"
     },
     "execution_count": 503,
     "metadata": {},
     "output_type": "execute_result"
    }
   ],
   "source": [
    "from sklearn.linear_model import LinearRegression\n",
    "lr = LinearRegression()\n",
    "lr.fit(x_train,y_train)"
   ],
   "metadata": {
    "collapsed": false,
    "pycharm": {
     "name": "#%%\n"
    }
   }
  },
  {
   "cell_type": "code",
   "execution_count": 504,
   "outputs": [],
   "source": [
    "y_pred = lr.predict(x_test)"
   ],
   "metadata": {
    "collapsed": false,
    "pycharm": {
     "name": "#%%\n"
    }
   }
  },
  {
   "cell_type": "code",
   "execution_count": 505,
   "outputs": [
    {
     "data": {
      "text/plain": "1.0"
     },
     "execution_count": 505,
     "metadata": {},
     "output_type": "execute_result"
    }
   ],
   "source": [
    "lr.score(x_train,y_train)"
   ],
   "metadata": {
    "collapsed": false,
    "pycharm": {
     "name": "#%%\n"
    }
   }
  },
  {
   "cell_type": "code",
   "execution_count": 506,
   "outputs": [
    {
     "name": "stderr",
     "output_type": "stream",
     "text": [
      "C:\\Users\\newton.sathyavety\\OneDrive\\Desktop\\Project\\env_ds\\lib\\site-packages\\sklearn\\metrics\\_regression.py:796: UndefinedMetricWarning: R^2 score is not well-defined with less than two samples.\n",
      "  warnings.warn(msg, UndefinedMetricWarning)\n"
     ]
    },
    {
     "data": {
      "text/plain": "nan"
     },
     "execution_count": 506,
     "metadata": {},
     "output_type": "execute_result"
    }
   ],
   "source": [
    "from sklearn.metrics import r2_score\n",
    "r2_score(y_test, y_pred)"
   ],
   "metadata": {
    "collapsed": false,
    "pycharm": {
     "name": "#%%\n"
    }
   }
  },
  {
   "cell_type": "markdown",
   "source": [
    "##### DECISION TREE"
   ],
   "metadata": {
    "collapsed": false
   }
  },
  {
   "cell_type": "code",
   "execution_count": 507,
   "outputs": [
    {
     "data": {
      "text/plain": "DecisionTreeRegressor(random_state=0)"
     },
     "execution_count": 507,
     "metadata": {},
     "output_type": "execute_result"
    }
   ],
   "source": [
    "from sklearn.tree import DecisionTreeRegressor\n",
    "dt = DecisionTreeRegressor(random_state=0)\n",
    "dt.fit(x_train,y_train)"
   ],
   "metadata": {
    "collapsed": false,
    "pycharm": {
     "name": "#%%\n"
    }
   }
  },
  {
   "cell_type": "code",
   "execution_count": 508,
   "outputs": [],
   "source": [
    "y_pred_dt = dt.predict(x_test)"
   ],
   "metadata": {
    "collapsed": false,
    "pycharm": {
     "name": "#%%\n"
    }
   }
  },
  {
   "cell_type": "code",
   "execution_count": 509,
   "outputs": [
    {
     "data": {
      "text/plain": "array([100000.])"
     },
     "execution_count": 509,
     "metadata": {},
     "output_type": "execute_result"
    }
   ],
   "source": [
    "y_pred_dt"
   ],
   "metadata": {
    "collapsed": false,
    "pycharm": {
     "name": "#%%\n"
    }
   }
  },
  {
   "cell_type": "markdown",
   "source": [
    "##### SHORT DESCRIPTION"
   ],
   "metadata": {
    "collapsed": false
   }
  },
  {
   "cell_type": "code",
   "execution_count": 510,
   "outputs": [],
   "source": [
    "# from sklearn.metrics import r2_score\n",
    "# r2_score(y_pred_dt,y_train)"
   ],
   "metadata": {
    "collapsed": false,
    "pycharm": {
     "name": "#%%\n"
    }
   }
  },
  {
   "cell_type": "markdown",
   "source": [
    "##### RANDOM FOREST"
   ],
   "metadata": {
    "collapsed": false
   }
  },
  {
   "cell_type": "code",
   "execution_count": 511,
   "outputs": [
    {
     "data": {
      "text/plain": "RandomForestRegressor(n_estimators=3)"
     },
     "execution_count": 511,
     "metadata": {},
     "output_type": "execute_result"
    }
   ],
   "source": [
    "from sklearn.ensemble import RandomForestRegressor\n",
    "rf = RandomForestRegressor(n_estimators=3)\n",
    "rf.fit(x_train,y_train)"
   ],
   "metadata": {
    "collapsed": false,
    "pycharm": {
     "name": "#%%\n"
    }
   }
  },
  {
   "cell_type": "code",
   "execution_count": 512,
   "outputs": [
    {
     "data": {
      "text/plain": "array([133333.33333333])"
     },
     "execution_count": 512,
     "metadata": {},
     "output_type": "execute_result"
    }
   ],
   "source": [
    "y_pred_rf = rf.predict(x_test)\n",
    "y_pred_rf"
   ],
   "metadata": {
    "collapsed": false,
    "pycharm": {
     "name": "#%%\n"
    }
   }
  },
  {
   "cell_type": "markdown",
   "source": [
    "##### SHORT DESCRIPTION"
   ],
   "metadata": {
    "collapsed": false
   }
  },
  {
   "cell_type": "code",
   "execution_count": 513,
   "outputs": [],
   "source": [
    "# from sklearn.metrics import r2_score\n",
    "# r2_score(y_pred_rf,y_train)"
   ],
   "metadata": {
    "collapsed": false,
    "pycharm": {
     "name": "#%%\n"
    }
   }
  }
 ],
 "metadata": {
  "kernelspec": {
   "display_name": "Python 3",
   "language": "python",
   "name": "python3"
  },
  "language_info": {
   "codemirror_mode": {
    "name": "ipython",
    "version": 2
   },
   "file_extension": ".py",
   "mimetype": "text/x-python",
   "name": "python",
   "nbconvert_exporter": "python",
   "pygments_lexer": "ipython2",
   "version": "2.7.6"
  }
 },
 "nbformat": 4,
 "nbformat_minor": 0
}